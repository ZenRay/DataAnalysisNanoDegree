{
 "cells": [
  {
   "cell_type": "markdown",
   "metadata": {},
   "source": [
    "# 分析OSM中上海的数据—— Data Wrangling with SQL"
   ]
  },
  {
   "cell_type": "markdown",
   "metadata": {},
   "source": [
    "### 目录\n",
    "\n",
    "* [项目综述](#项目综述)\n",
    "* [文件结构说明](#文件结构说明)\n",
    "* [数据分析过程](#数据分析过程)\n",
    "    * [了解文件结构](#1.对文件结构进行了解)\n",
    "    * [分析数据值](#2.分析element的值)\n",
    "    * [数据存在问题](#3.数据问题)\n",
    "    * [数据清理](#4.数据修正)\n",
    "* [数据库数据准备](#搜集数据库源数据及创建数据库)\n",
    "* [使用SQL查询](#使用SQL查询数据)\n",
    "    * [查询结论](#查询报告)\n",
    "* [参考及建议](#参考和建议)"
   ]
  },
  {
   "cell_type": "markdown",
   "metadata": {},
   "source": [
    "## 项目综述 \n",
    "数据选取的Open Street Map的区域为中国上海的数据，基于项目要求分析数据的Raw data要求在50M以上；另一方面，上海([Shanghai_china.osm](https://mapzen.com/data/metro-extracts/metro/shanghai_china/))地处长江三角洲冲积平原前沿，东临东海北距长江，在国内的经济等方面占有重要的地位。同时上海的交通道路发达，分析OSM中上海的道路数据具有典型的意义——可以反应国内城市道路数据在地图库中的数据情况，包括数据存在的问题，对数据设计有效性、一致性等方面有重要意义。"
   ]
  },
  {
   "attachments": {
    "%E6%96%87%E4%BB%B6%E7%BB%93%E6%9E%84.png": {
     "image/png": "[encoded data removed]"
    }
   },
   "cell_type": "markdown",
   "metadata": {},
   "source": [
    "## 文件结构说明\n",
    "项目中建立了用于作工具的模块，结果文件夹，样本数据文件下，具体说明如下：\n",
    "1. createCSV.py——搜集XML文件后，创建CSV文件\n",
    "2. createDB.py——创建数据库，并将CSV文件导入到数据库\n",
    "3. createsample.py——根据下载到原始数据源，创建用于分析的样本数据\n",
    "4. report.html——结果展示文件\n",
    "5. result——保存结果的文件夹\n",
    "6. sqlschema.py——用于检验解析后的数据是否符合SQL的schema格式\n",
    "7. tool.py——编写的用于解析数据的模块文件\n",
    "8. wrangling.py——用于测试数据清理的文件\n",
    "9. <font color=\"red\">原始数据在originaldata文件夹中</font>\n",
    "![%E6%96%87%E4%BB%B6%E7%BB%93%E6%9E%84.png](attachment:%E6%96%87%E4%BB%B6%E7%BB%93%E6%9E%84.png)"
   ]
  },
  {
   "cell_type": "markdown",
   "metadata": {},
   "source": [
    "结果说明了，一级element有node、way以及relation；二级element主要是tag，以及relation下有member。各元素对结构及其attribute如下：\n",
    "```python\n",
    "{'node': {'changeset',\n",
    "'id',\n",
    "'lat',\n",
    "'lon',\n",
    "'timestamp',\n",
    "'uid',\n",
    "'user',\n",
    "'version'},\n",
    "'node_child_tag': {'k', 'v'},\n",
    "'relation': {'changeset', 'id', 'timestamp', 'uid', 'user', 'version'},\n",
    "'relation_child_member': {'ref', 'role', 'type'},\n",
    "'relation_child_tag': {'k', 'v'},\n",
    "'way': {'changeset', 'id', 'timestamp', 'uid', 'user', 'version'},\n",
    "'way_child_nd': {'ref'},\n",
    "'way_child_tag': {'k', 'v'}}\n",
    "```"
   ]
  },
  {
   "cell_type": "code",
   "execution_count": 1,
   "metadata": {
    "collapsed": true
   },
   "outputs": [],
   "source": [
    "import xml.etree.cElementTree as ET\n",
    "from collections import defaultdict\n",
    "import re\n",
    "from sqlschema import schema\n",
    "import cerberus\n",
    "import pprint\n",
    "import tool\n",
    "import csv"
   ]
  },
  {
   "cell_type": "code",
   "execution_count": 2,
   "metadata": {
    "collapsed": true
   },
   "outputs": [],
   "source": [
    "file_name = \"data/shanghai_china.osm\""
   ]
  },
  {
   "cell_type": "code",
   "execution_count": 3,
   "metadata": {
    "collapsed": true
   },
   "outputs": [],
   "source": [
    "all_tags_dict = tool.get_all_tags(file_name)\n",
    "# create a dict about the information of the elementary tag after the root\n",
    "tags_dict = tool.get_tags(file_name)\n",
    "\n",
    "\n",
    "sub_tags_dict = defaultdict(int)\n",
    "for i in all_tags_dict.keys():\n",
    "    if i in [\"osm\", \"bounds\"] or i in tags_dict.keys():\n",
    "        continue\n",
    "    else:\n",
    "        sub_tags_dict[i] = all_tags_dict[i]\n",
    "\n",
    "\n",
    "\"\"\"\n",
    " Now, I will get the information of the tags' attributes.Next, I want to analysis the\n",
    " keys about the tags, which I use two different tags.They are elementary tags,\n",
    " and the other one is secondary tags.\n",
    "\"\"\"\n",
    "\n",
    "with open(file_name, \"r\") as file:\n",
    "    elements = ET.iterparse(file, events=(\"start\", \"end\"))\n",
    "    parent_attribute = tool.get_attr_dict(elements, tags=tags_dict)\n",
    "\n",
    "with open(file_name, \"r\") as file:\n",
    "    elements = ET.iterparse(file, events=(\"start\", \"end\"))\n",
    "    all_subattr_dict = tool.get_attr_dict(elements, tags=sub_tags_dict)\n",
    "\n",
    "with open(file_name, \"r\") as file:\n",
    "    trees = ET.parse(file)\n",
    "    root = trees.getroot()\n",
    "\n",
    "    child_attr = dict()\n",
    "\n",
    "    for element in root:\n",
    "        if element.tag in parent_attribute:\n",
    "            for child in element.getchildren():\n",
    "                child_key = element.tag + \"_child_\" + child.tag\n",
    "\n",
    "                for key in child.attrib.keys():\n",
    "                    if child_key not in child_attr:\n",
    "                        child_attr[child_key] = set()\n",
    "\n",
    "                    child_attr[child_key].add(key)\n",
    "\n",
    "    # push the parent attr to the all structure, then adding the children's attribute\n",
    "    all_attr_struc = parent_attribute\n",
    "    for child_key in child_attr:\n",
    "        all_attr_struc[child_key] = child_attr[child_key]"
   ]
  },
  {
   "cell_type": "code",
   "execution_count": 4,
   "metadata": {},
   "outputs": [
    {
     "name": "stdout",
     "output_type": "stream",
     "text": [
      "\n",
      "The attribute of the all element and their children is:\n",
      "{'node': {'changeset',\n",
      "          'id',\n",
      "          'lat',\n",
      "          'lon',\n",
      "          'timestamp',\n",
      "          'uid',\n",
      "          'user',\n",
      "          'version'},\n",
      " 'node_child_tag': {'k', 'v'},\n",
      " 'relation': {'id', 'user', 'changeset', 'version', 'timestamp', 'uid'},\n",
      " 'relation_child_member': {'ref', 'type', 'role'},\n",
      " 'relation_child_tag': {'k', 'v'},\n",
      " 'way': {'id', 'user', 'changeset', 'version', 'timestamp', 'uid'},\n",
      " 'way_child_nd': {'ref'},\n",
      " 'way_child_tag': {'k', 'v'}}\n"
     ]
    }
   ],
   "source": [
    "print(\"\\nThe attribute of the all element and their children is:\")\n",
    "pprint.pprint(all_attr_struc)"
   ]
  },
  {
   "cell_type": "markdown",
   "metadata": {},
   "source": [
    "### 2.分析element的值\n",
    "   基于对文件中各element的attribute和对文件内容大致回顾，现在需要对各attribute对值进行分析。了解其中数据值的具体分析，选择了具有代表意义的k值对attribute——street_name，postal_code，wikipedia及name_en进行分析——从街道名称、英文名称、邮编以及wiki名称进行分析。主要用到对代码为：\n",
    "```python\n",
    "def audit_attribute(element, attribute):\n",
    "   '''\n",
    "   Check the value the attribute in the element!\n",
    "\n",
    "   The attribute value can choose k or v\n",
    "\n",
    "   The result is boolen value\n",
    "   '''\n",
    "   return attribute == element.attrib['k']\n",
    "```\n",
    "\n",
    "同时对特定对attribute进行值检查，统计各种数据数量，主要对代码如下：\n",
    "```python \n",
    "\n",
    "def count_attr_type(element, attribute, check_out: 'out function dict'):\n",
    "   '''\n",
    "   count the different type of attribute.\n",
    "\n",
    "   There are three type of regular pattern.The attribute is k or v.\n",
    "\n",
    "   return the dict\n",
    "   '''\n",
    "   # setup the regular pattern\n",
    "   lower = re.compile(r'^([a-z]|_)*$')\n",
    "   lower_colon = re.compile(r'^([a-z]|_)*:([a-z]|_)*$')\n",
    "   problemchars = re.compile(r'[=\\\\+/&<>;\\\\''\\\\?%#$@\\\\,\\\\. \\\\t\\\\r\\\\n]')\n",
    "\n",
    "   if element.tag == 'tag':\n",
    "       tag = 0\n",
    "   if lower.search(element.attrib[attribute]):\n",
    "       check_out['lower'] += 1\n",
    "       tag = 1\n",
    "   elif lower_colon.search(element.attrib[attribute]):\n",
    "       check_out['lower_colon'] += 1\n",
    "       tag = 1\n",
    "   elif problemchars.search(element.attrib[attribute]):\n",
    "       check_out['problemchars'] += 1\n",
    "       tag = 1\n",
    "\n",
    "   if tag == 0:\n",
    "       check_out['other'] += 1\n",
    "   return check_out\n",
    "```"
   ]
  },
  {
   "cell_type": "code",
   "execution_count": 5,
   "metadata": {
    "collapsed": true
   },
   "outputs": [],
   "source": [
    "# create a set to store the value, which keeps unique,\n",
    "with open(file_name, \"r\") as file:\n",
    "   street_name = defaultdict(set)\n",
    "   postal_code = defaultdict(set)\n",
    "   wikipedia = defaultdict(set)\n",
    "   name_en = defaultdict(set)\n",
    "   for _,element in ET.iterparse(file, events=(\"start\",)):\n",
    "       if element.tag == \"tag\":\n",
    "           if tool.audit_attribute(element, \"addr:street\"):\n",
    "               street_name[\"addr:street\"].add(element.attrib[\"v\"])\n",
    "           if tool.audit_attribute(element, \"addr:postcode\"):\n",
    "               postal_code[\"addr:postcode\"].add(element.attrib[\"v\"])\n",
    "           if tool.audit_attribute(element, \"wikipedia\"):\n",
    "               wikipedia[\"wikipedia\"].add(element.attrib[\"v\"])\n",
    "       if element.tag in [\"way\", \"node\"]:\n",
    "           for child in element.iter(\"tag\"):\n",
    "               if tool.audit_attribute(child, \"name:en\"):\n",
    "                   name_en[\"name:en\"].add(child.attrib[\"v\"])"
   ]
  },
  {
   "cell_type": "code",
   "execution_count": 6,
   "metadata": {},
   "outputs": [
    {
     "name": "stdout",
     "output_type": "stream",
     "text": [
      "The head 20 street name is:\n",
      "\n",
      "['人民路',\n",
      " '中山北路',\n",
      " '梅州路',\n",
      " '圆明园路',\n",
      " '建国中路',\n",
      " '金汇南路',\n",
      " 'Huaihai West road Wellington garden',\n",
      " '威海路',\n",
      " '泉口路',\n",
      " '开鲁路',\n",
      " '董家渡',\n",
      " '农谊路1号',\n",
      " 'Jindu Rd,',\n",
      " '阜新路',\n",
      " '延吉东路82弄 Lane 82 of East Yanji Road',\n",
      " '鹤庆路358弄',\n",
      " '东湖路',\n",
      " 'Fuquan Rd. (N.)',\n",
      " '仙霞西路',\n",
      " '松汇中路']\n"
     ]
    }
   ],
   "source": [
    "print(\"The head 20 street name is:\\n\")\n",
    "pprint.pprint(list(street_name[\"addr:street\"])[:20])"
   ]
  },
  {
   "cell_type": "code",
   "execution_count": 7,
   "metadata": {},
   "outputs": [
    {
     "name": "stdout",
     "output_type": "stream",
     "text": [
      "The postal code is:\n",
      "\n",
      "defaultdict(<class 'set'>,\n",
      "            {'addr:postcode': {'200002',\n",
      "                               '2000080',\n",
      "                               '200030',\n",
      "                               '200031',\n",
      "                               '200032',\n",
      "                               '200040',\n",
      "                               '200062',\n",
      "                               '200092',\n",
      "                               '200127',\n",
      "                               '200135',\n",
      "                               '200231',\n",
      "                               '200233',\n",
      "                               '200237',\n",
      "                               '200240',\n",
      "                               '200243',\n",
      "                               '200333',\n",
      "                               '200335',\n",
      "                               '200336',\n",
      "                               '201103',\n",
      "                               '201203',\n",
      "                               '201204',\n",
      "                               '201315',\n",
      "                               '201620',\n",
      "                               '201702',\n",
      "                               '201999',\n",
      "                               '210023',\n",
      "                               '212003',\n",
      "                               '214121',\n",
      "                               '21500',\n",
      "                               '215000',\n",
      "                               '215123',\n",
      "                               '215600',\n",
      "                               '310000',\n",
      "                               '310007',\n",
      "                               '310015',\n",
      "                               '310023',\n",
      "                               '310053',\n",
      "                               '314211'}})\n"
     ]
    }
   ],
   "source": [
    "print(\"The postal code is:\\n\")\n",
    "pprint.pprint(postal_code)"
   ]
  },
  {
   "cell_type": "code",
   "execution_count": 8,
   "metadata": {},
   "outputs": [
    {
     "name": "stdout",
     "output_type": "stream",
     "text": [
      "The wikipedia is:\n",
      "\n",
      "defaultdict(<class 'set'>,\n",
      "            {'wikipedia': {'en:Chuzhou',\n",
      "                           'en:Gangzha District',\n",
      "                           'en:Gusu District',\n",
      "                           'en:HVDC Three Gorges – Changzhou',\n",
      "                           'en:Haimen',\n",
      "                           'en:Jiande',\n",
      "                           'en:Jurong, Jiangsu',\n",
      "                           'en:Line 11, Shanghai Metro',\n",
      "                           'en:Lishui District',\n",
      "                           'en:Shanghai',\n",
      "                           'en:TRON Lightcycle Power Run',\n",
      "                           'en:The Many Adventures of Winnie the Pooh '\n",
      "                           '(attraction)',\n",
      "                           'en:Tongxiang',\n",
      "                           'en:Xinchang County',\n",
      "                           'en:Xu Wei',\n",
      "                           'en:Yiwu',\n",
      "                           'en:Yixing',\n",
      "                           'en:Yuyao',\n",
      "                           'en:Zhonglou District',\n",
      "                           'zh:中国美术学院',\n",
      "                           'zh:保俶塔',\n",
      "                           'zh:北漳镇',\n",
      "                           'zh:卢村乡',\n",
      "                           'zh:周公宅水库',\n",
      "                           'zh:安吉县',\n",
      "                           'zh:建德市',\n",
      "                           'zh:斯氏古民居建筑群',\n",
      "                           'zh:普陀山',\n",
      "                           'zh:田螺山遗址',\n",
      "                           'zh:绍兴东湖',\n",
      "                           'zh:谷来镇',\n",
      "                           'zh:长江',\n",
      "                           'zh:霞西镇',\n",
      "                           'zh:顾村镇'}})\n"
     ]
    }
   ],
   "source": [
    "print(\"The wikipedia is:\\n\")\n",
    "pprint.pprint(wikipedia)"
   ]
  },
  {
   "cell_type": "code",
   "execution_count": 9,
   "metadata": {},
   "outputs": [
    {
     "name": "stdout",
     "output_type": "stream",
     "text": [
      "The head 20 english name is:\n",
      "\n",
      "['Daxing Street',\n",
      " 'Wanzitou Xinyu',\n",
      " 'Yuanlu Sushi',\n",
      " 'Chemical Plant Entrance',\n",
      " 'Luochang Road',\n",
      " 'Lima Expressway',\n",
      " 'East Shendi Road',\n",
      " 'Jianghai Avenue Viaduct',\n",
      " 'Shijie Road',\n",
      " 'Longdong Ave',\n",
      " 'Xinhua',\n",
      " 'Yuqiao Road',\n",
      " 'Xinyuan Road',\n",
      " 'Guyan Road',\n",
      " 'Ancient Shop Good Food',\n",
      " 'Liziyuan',\n",
      " 'Jichang Ave Exit',\n",
      " 'Zhenzhingxin Road',\n",
      " 'Tanxian Stone Town',\n",
      " 'Hulin Road']\n"
     ]
    }
   ],
   "source": [
    "print(\"The head 20 english name is:\\n\")\n",
    "pprint.pprint(list(name_en[\"name:en\"])[0:20])"
   ]
  },
  {
   "cell_type": "code",
   "execution_count": 10,
   "metadata": {
    "collapsed": true
   },
   "outputs": [],
   "source": [
    "# just check the attribute k\n",
    "check_out =  {\"lower\": 0, \"lower_colon\": 0, \"problemchars\": 0, \"other\": 0}\n",
    "with open(file_name,\"r\") as file:\n",
    "    for _, element in ET.iterparse(file):\n",
    "        if element.tag ==\"tag\":\n",
    "            tool.count_attr_type(element,\"k\", check_out)"
   ]
  },
  {
   "cell_type": "code",
   "execution_count": 11,
   "metadata": {},
   "outputs": [
    {
     "name": "stdout",
     "output_type": "stream",
     "text": [
      "The total of the attribute k in different type:\n",
      "\n",
      "{'lower': 77524, 'lower_colon': 8276, 'other': 163, 'problemchars': 1}\n"
     ]
    }
   ],
   "source": [
    "print(\"The total of the attribute k in different type:\\n\")\n",
    "pprint.pprint(check_out)"
   ]
  },
  {
   "cell_type": "markdown",
   "metadata": {},
   "source": [
    "### 3. 数据问题,\n",
    "从street_name，poscode，wikipedia及name_en的值中，可以了解到该数据集中存在的问题，如下：\n",
    "* 数据一致性问题 在name_en中体现明显，该值标示了说明是录入英文名称，但数据中还是存在中文名字(杭州酒家)，street_name中同样存在中英文混用的情况\n",
    "* 数据有效性 在name_en中，存在不同的简写——对于road有Rd.，Rd，Lu等简写，Highway有Hwy.简写，Library有Lib.简写；另外还存在中文拼音\n",
    "* 从结果可以看出，四个属性中只有postcode相对较好，但是还是表现出数据长度不一致等情况。实际数据正确性检验还需要加强和清理，因为需要看该地点的postcode是否和实际一致——针对这一问题需要相关的postcode数据字典来比对\n",
    "* 分析attribute中k值，基本上都是符合提出对正则表达式要求。同样存在数据集大小的问题，需要进一步扩大数据集进行检验"
   ]
  },
  {
   "cell_type": "markdown",
   "metadata": {},
   "source": [
    "### 4.数据修正\n",
    "本次数据修正主要是针对已经筛选出的英语名称(name:en)，针对已经找到的数据简写问题进行修正。首先建立了一个比对字典，对相应对值进行修正。当然在修正问题过程中，还有其他方面的问题还需要进行进一步逐渐修正。使用的主要代码如下：\n",
    "```python\n",
    "def update_vaue(name, mapping=mapping):,\n",
    "   '''\n",
    "   Update the invalidate value!,\n",
    "\n",
    "   Return the validate value,\n",
    "   ''',\n",
    "   for key, value in mapping.items():\n",
    "       pattern = re.compile(key + r'$')\n",
    "       if pattern.search(name):\n",
    "           name = name.replace(pattern.search(name).group(), value)\n",
    "   return name\n",
    "```"
   ]
  },
  {
   "cell_type": "code",
   "execution_count": 12,
   "metadata": {
    "collapsed": true
   },
   "outputs": [],
   "source": [
    "pattern = re.compile(\n",
    "    r\"(\\S*\\s+\\([N|S|E|W]\\)|Lib.|Rd|Lu|Rd.|Hwy.)$\", re.IGNORECASE)\n",
    "#     r\"(Lib.|Rd|Lu|Rd.|\\S[A-Z][a-z]*)$\", re.IGNORECASE)\n",
    "problem_name = []\n",
    "done_name = []\n",
    "for name in name_en[\"name:en\"]:\n",
    "    m = pattern.search(name)\n",
    "    if m:\n",
    "        problem_name.append(m.group())\n",
    "        done_name.append(tool.update_vaue(name, pattern))"
   ]
  },
  {
   "cell_type": "code",
   "execution_count": 13,
   "metadata": {},
   "outputs": [
    {
     "name": "stdout",
     "output_type": "stream",
     "text": [
      "Before fixing the name:\n",
      "\n",
      "['Rd.',\n",
      " 'Rd.',\n",
      " 'Rd.',\n",
      " 'Rd',\n",
      " 'Rd',\n",
      " 'Rd.',\n",
      " 'Rd. (E)',\n",
      " 'Rd.',\n",
      " 'Rd.',\n",
      " 'Rd',\n",
      " 'Rd.',\n",
      " 'rd',\n",
      " 'Rd.',\n",
      " 'Hwy.',\n",
      " 'Hwy.',\n",
      " 'Rd. (W)',\n",
      " 'Rd.',\n",
      " 'rd',\n",
      " 'Rd.',\n",
      " 'Rd.',\n",
      " 'Rd.',\n",
      " 'Hwy.',\n",
      " 'Rd.',\n",
      " 'Rd.',\n",
      " 'Rd.',\n",
      " 'Rd.',\n",
      " 'Rd',\n",
      " 'Rd.',\n",
      " 'Rd.',\n",
      " 'Hwy.',\n",
      " 'Rd.',\n",
      " 'Hwy.',\n",
      " 'Lu',\n",
      " 'Rd. (N)',\n",
      " 'Rd',\n",
      " 'Lib.',\n",
      " 'Rd. (S)',\n",
      " 'Rd. (S)',\n",
      " 'Hwy.',\n",
      " 'Rd',\n",
      " 'Rd.',\n",
      " 'Lu',\n",
      " 'Rd.',\n",
      " 'Rd.',\n",
      " 'Rd.',\n",
      " 'Rd.',\n",
      " 'Rd.',\n",
      " 'Rd.',\n",
      " 'Hwy.',\n",
      " 'Rd.',\n",
      " 'Hwy.',\n",
      " 'Rd.',\n",
      " 'Rd.',\n",
      " 'Rd',\n",
      " 'Rd',\n",
      " 'Hwy.',\n",
      " 'Rd.',\n",
      " 'Rd',\n",
      " 'Rd.',\n",
      " 'Rd.',\n",
      " 'Rd.',\n",
      " 'Rd.',\n",
      " 'Rd.',\n",
      " 'Rd.',\n",
      " 'Rd.',\n",
      " 'Rd.',\n",
      " 'Rd.',\n",
      " 'Rd',\n",
      " 'Hwy.',\n",
      " 'Rd.',\n",
      " 'Rd.',\n",
      " 'Rd.',\n",
      " 'Rd',\n",
      " 'Hwy.',\n",
      " 'Hwy.',\n",
      " 'Rd. (S)',\n",
      " 'Rd.',\n",
      " 'Rd.',\n",
      " 'Rd.',\n",
      " 'Rd. (E)',\n",
      " 'Rd. (N)',\n",
      " 'lu',\n",
      " 'Rd.',\n",
      " 'Rd',\n",
      " 'Rd.',\n",
      " 'lu',\n",
      " 'Hwy.',\n",
      " 'lu',\n",
      " 'Rd.',\n",
      " 'Rd.',\n",
      " 'Rd',\n",
      " 'Rd.',\n",
      " 'Rd.',\n",
      " 'Hwy.',\n",
      " 'Rd',\n",
      " 'Rd.',\n",
      " 'Rd. (S)',\n",
      " 'Rd. (S)',\n",
      " 'Rd.',\n",
      " 'Rd.',\n",
      " 'Rd.',\n",
      " 'Rd.',\n",
      " 'Rd.',\n",
      " 'Rd.',\n",
      " 'Rd.',\n",
      " 'Rd',\n",
      " 'Rd.',\n",
      " 'Rd.',\n",
      " 'Rd.',\n",
      " 'Rd.',\n",
      " 'Rd.',\n",
      " 'Rd.']\n"
     ]
    }
   ],
   "source": [
    "print(\"Before fixing the name:\\n\")\n",
    "pprint.pprint(problem_name)"
   ]
  },
  {
   "cell_type": "code",
   "execution_count": 14,
   "metadata": {},
   "outputs": [
    {
     "name": "stdout",
     "output_type": "stream",
     "text": [
      "After fixing the name:\n",
      "\n",
      "['Guangyan Road',\n",
      " 'Gongji Road',\n",
      " 'Jinyuan No.5 Road',\n",
      " 'Caobao Road Xingxi Road',\n",
      " 'N. Huan Cheng Road',\n",
      " 'Puting Road',\n",
      " 'Xietu Road East',\n",
      " 'Baoyang Road',\n",
      " 'Jintong Road',\n",
      " 'South Hongmei Road Xinzhu Road',\n",
      " 'Xiangzhang Road',\n",
      " 'VanguaRoad',\n",
      " 'Caohua Road',\n",
      " \"Bao'an Highway\",\n",
      " 'Chuannanfeng Highway',\n",
      " 'Jinshajiang Road West',\n",
      " 'Yangnan Branch Road',\n",
      " 'Century BoulevaRoad',\n",
      " 'Jiya Road',\n",
      " 'Lianqun Road',\n",
      " 'Donggang Road',\n",
      " 'Fenghua Highway',\n",
      " 'Pingyao Road',\n",
      " 'Beidi Elevated Road',\n",
      " 'Taopu Road',\n",
      " 'Chengnan Road',\n",
      " 'N. Express Ring Road',\n",
      " \"91 E'shan Road\",\n",
      " 'Longwu Road',\n",
      " 'Waiqingsong Highway',\n",
      " 'Hengxie Road',\n",
      " 'Liuxiang Highway',\n",
      " 'MengXi Road',\n",
      " 'Jiasong Road North',\n",
      " 'Wuqufang Road',\n",
      " 'South Area of Tongji Library',\n",
      " 'Moyu Road South',\n",
      " 'Tuanjie Road South',\n",
      " 'Hutai Highway',\n",
      " 'Wang Mei Road',\n",
      " 'Nanyuan Road',\n",
      " 'Panlong Road',\n",
      " 'Jinying Road',\n",
      " 'Xuesong Road',\n",
      " 'Zhenghai Road',\n",
      " 'Caobao Road',\n",
      " 'Guanhai Road',\n",
      " 'Hewang Road',\n",
      " 'Husong Highway',\n",
      " 'Chunting Road',\n",
      " 'Nantuan Highway',\n",
      " 'Humin Road',\n",
      " 'Xiehe Road',\n",
      " 'Mayun Road',\n",
      " 'Banqiao Road',\n",
      " 'Dachuan Highway',\n",
      " 'Gubei Road',\n",
      " 'Zhuhui Road',\n",
      " 'Chengji Road',\n",
      " 'Jingyuan Road',\n",
      " 'Hongxu Road',\n",
      " 'Jinchang Road',\n",
      " 'Dongjiexin Road',\n",
      " 'Hailun Road',\n",
      " 'Nanda Road',\n",
      " 'Jinghai Road',\n",
      " 'Hexia Road',\n",
      " 'Xindong Road Xinli Road',\n",
      " 'Nanlu Highway',\n",
      " 'Konggang No. 3 Road',\n",
      " 'Jinlun Road',\n",
      " 'Fengyang Road',\n",
      " 'Jinmen Road',\n",
      " 'Xuanhuang Highway',\n",
      " 'Xiangjiang Highway',\n",
      " 'Jiasong Road South',\n",
      " 'Tingchao Road',\n",
      " 'Jinshi Road',\n",
      " '500 Huamu Road',\n",
      " 'Mengzi Road East',\n",
      " 'Sichuan Road North',\n",
      " 'YouyiRoad',\n",
      " 'Fujin Road',\n",
      " 'Fengmen Road',\n",
      " 'Xujiacun Road',\n",
      " 'MaRoad',\n",
      " 'Caoan Highway',\n",
      " 'JinmaRoad',\n",
      " 'Changzhong Road',\n",
      " 'Yuejin Road',\n",
      " 'South Ring Road',\n",
      " 'Tangnan Road',\n",
      " 'Xunan Road',\n",
      " 'Yunchuan Highway',\n",
      " 'Xueshi Road',\n",
      " 'Qingchi Road',\n",
      " 'Chongqing Road South',\n",
      " 'Yanggao Road South',\n",
      " 'Dongming Road',\n",
      " 'Tingle Road',\n",
      " 'Jinyun Road',\n",
      " 'Shinan Road',\n",
      " 'Meichuan Road',\n",
      " 'Yuantai Road',\n",
      " 'Zaozhuang Road',\n",
      " 'Shanxiang Road',\n",
      " 'Hongmei Road',\n",
      " 'Aite Road',\n",
      " \"Bao'an Branch Road\",\n",
      " 'Boyuan Road',\n",
      " 'Huajiang Branch Road',\n",
      " 'Jinyuan No.1 Road']\n"
     ]
    }
   ],
   "source": [
    "print(\"After fixing the name:\\n\")\n",
    "pprint.pprint(done_name)"
   ]
  },
  {
   "cell_type": "markdown",
   "metadata": {},
   "source": [
    "## 搜集数据库源数据及创建数据库\n",
    "针对源数据XML中有node、way和relation三个主要element，此次创建数据库主要针对node和way分别获取相关csv数据集——nodes.csv、nodes_tags.csv、ways.csv、ways_nodes.csv、ways_tags.csv；之后在加载如sql数据库shanghai.db中。使用到到代码如下：\n",
    "```python\n",
    "class UnicodeDictWriter(csv.DictWriter, object):\n",
    "    def writerow(self, row):\n",
    "        super(UnicodeDictWriter, self).writerow({\n",
    "            k: (v.encode('utf-8') if isinstance(v, str) else v) for k, v in row.items()\n",
    "        })\n",
    "\n",
    "    def writerows(self, rows):\n",
    "        for row in rows:\n",
    "            self.writerow(row)\n",
    "```\n",
    "<font color=\"red\">获取csv数据集，请直接在命令行使用如下命令运行：</font>\n",
    "```python\n",
    "python createCSV_done.py\n",
    "```"
   ]
  },
  {
   "cell_type": "markdown",
   "metadata": {},
   "source": [
    "将获得的5个csv文件，利用csv和sqlite3导入写好的schema和数据源，用到的代码如下：\n",
    "```python\n",
    "# inital the database and write the schema in the database\n",
    "initialdb = sqlite3.connect(dbfile)\n",
    "initialdb.cursor().executescript(dbschema)\n",
    "initialdb.commit()\n",
    "\n",
    "\n",
    "for schema, file in zip(schemas, files):\n",
    "    cursor.execute(schema)\n",
    "    if file == \"nodes.csv\":\n",
    "        with open(\"result/\" + file, \"r\", encoding=\"utf-8\") as data:\n",
    "            csvdata = csv.DictReader(data)\n",
    "            for row in csvdata:\n",
    "                # print(row.keys())\n",
    "                id_value = int(row[\"id\"])\n",
    "                lat_value = float(row[\"lat\"])\n",
    "                lon_value = float(row[\"lon\"])\n",
    "                user_value = str(row[\"user\"])\n",
    "                uid_value = int(row[\"uid\"])\n",
    "                version_value = str(row[\"version\"])\n",
    "                changeset_value = int(row[\"changeset\"])\n",
    "                timestamp_value = str(row[\"timestamp\"])\n",
    "\n",
    "                cursor.execute('INSERT INTO nodes VALUES (?,?,?,?,?,?,?,?)',\n",
    "                               (id_value, lat_value, lon_value, user_value,\n",
    "                                uid_value, version_value, changeset_value, timestamp_value))\n",
    "```\n",
    "<font color=\"red\">将数据写入数据库，请直接使用名行命令</font>\n",
    "```python\n",
    "python createDB.py\n",
    "```"
   ]
  },
  {
   "cell_type": "markdown",
   "metadata": {},
   "source": [
    "## 使用SQL查询数据"
   ]
  },
  {
   "cell_type": "markdown",
   "metadata": {},
   "source": [
    "本次数据源已经导入数据库，现需要利用SQL语句查询需要查找的数据。\n",
    "1. 查询各表格的记录数\n",
    "2. 查询最多的贡献数量的用户名及贡献数量\n",
    "3. 贡献数量最多对用户，在不同节点类型和不同道路中贡献版本最多的5个数\n",
    "4. 在道路和节点中，商店和便利设施最多对5个类型和数量"
   ]
  },
  {
   "cell_type": "code",
   "execution_count": 15,
   "metadata": {
    "collapsed": true
   },
   "outputs": [],
   "source": [
    "import sqlite3"
   ]
  },
  {
   "cell_type": "code",
   "execution_count": 16,
   "metadata": {
    "collapsed": true
   },
   "outputs": [],
   "source": [
    "connection = sqlite3.connect(\"result/shanghai.db\")\n",
    "cursor = connection.cursor()"
   ]
  },
  {
   "cell_type": "code",
   "execution_count": 17,
   "metadata": {},
   "outputs": [
    {
     "name": "stdout",
     "output_type": "stream",
     "text": [
      "The entries about the table nodes:\n",
      "261756\n",
      "The entries about the table nodestags:\n",
      "19011\n",
      "The entries about the table ways:\n",
      "31741\n",
      "The entries about the table waysnodes:\n",
      "311458\n",
      "The entries about the table waystags:\n",
      "65787\n"
     ]
    }
   ],
   "source": [
    "tables = [\"nodes\", \"nodestags\", \"ways\", \"waysnodes\", \"waystags\"]\n",
    "\n",
    "for table in tables:\n",
    "    query = \"SELECT COUNT(*) FROM %s;\" % table\n",
    "    print(\"The entries about the table %s:\" % table)\n",
    "    print(cursor.execute(query).fetchone()[0])"
   ]
  },
  {
   "cell_type": "code",
   "execution_count": 18,
   "metadata": {},
   "outputs": [
    {
     "name": "stdout",
     "output_type": "stream",
     "text": [
      "The most contributing user is:\n",
      "('Chen Jia', 47339)\n"
     ]
    }
   ],
   "source": [
    "# query the most contributing user\n",
    "query = \"\"\"\n",
    "SELECT wn.user, COUNT(*) as num\n",
    "FROM (SELECT user FROM nodes\n",
    "UNION ALL\n",
    "SELECT user FROM ways) as wn\n",
    "GROUP BY wn.user\n",
    "ORDER BY num DESC\n",
    "LIMIT 1;\n",
    "\"\"\"\n",
    "print(\"The most contributing user is:\")\n",
    "print(cursor.execute(query).fetchone())"
   ]
  },
  {
   "cell_type": "code",
   "execution_count": 19,
   "metadata": {},
   "outputs": [
    {
     "name": "stdout",
     "output_type": "stream",
     "text": [
      "('Chen Jia', 28414623)\n"
     ]
    }
   ],
   "source": [
    "# query the most contributing user whether there are different id \n",
    "query = \"\"\"\n",
    "SELECT user, id \n",
    "FROM nodes\n",
    "WHERE user=\"Chen Jia\";\n",
    "\"\"\"\n",
    "for i in cursor.execute(query).fetchmany():\n",
    "    print(i)"
   ]
  },
  {
   "cell_type": "code",
   "execution_count": 20,
   "metadata": {},
   "outputs": [
    {
     "name": "stdout",
     "output_type": "stream",
     "text": [
      "('tower', 52)\n",
      "('PGS', 25)\n",
      "('gate', 17)\n",
      "('traffic_signals', 9)\n",
      "('crossing', 7)\n"
     ]
    }
   ],
   "source": [
    "# query the most contirbuting user who contribute what type about the nodes\n",
    "query = \"\"\"\n",
    "SELECT nodestags.value, COUNT(nodes.version) as num\n",
    "FROM nodes, nodestags\n",
    "WHERE nodes.id = nodestags.id\n",
    "AND nodes.user=\"Chen Jia\"\n",
    "GROUP BY nodestags.value\n",
    "ORDER BY num DESC\n",
    "LIMIT 5;\n",
    "\"\"\"\n",
    "for i in cursor.execute(query).fetchall():\n",
    "    print(i)"
   ]
  },
  {
   "cell_type": "code",
   "execution_count": 21,
   "metadata": {},
   "outputs": [
    {
     "name": "stdout",
     "output_type": "stream",
     "text": [
      "('yes', 4731)\n",
      "('residential', 495)\n",
      "('service', 344)\n",
      "('tertiary', 325)\n",
      "('water', 163)\n"
     ]
    }
   ],
   "source": [
    "# query the most contirbuting user who contribute what type about ways\n",
    "query = \"\"\"\n",
    "SELECT waystags.value, COUNT(ways.version) as num\n",
    "FROM ways, waystags\n",
    "WHERE ways.id = waystags.id\n",
    "AND ways.user=\"Chen Jia\"\n",
    "GROUP BY waystags.value\n",
    "ORDER BY num DESC\n",
    "LIMIT 5;\n",
    "\"\"\"\n",
    "for i in cursor.execute(query).fetchall():\n",
    "    print(i)"
   ]
  },
  {
   "cell_type": "code",
   "execution_count": 22,
   "metadata": {},
   "outputs": [
    {
     "name": "stdout",
     "output_type": "stream",
     "text": [
      "(393,)\n"
     ]
    }
   ],
   "source": [
    "# query the user who have 1 post\n",
    "query = \"\"\"\n",
    "SELECT COUNT(*)\n",
    "FROM\n",
    "    (SELECT sq.user, COUNT(*) as num \n",
    "    FROM (SELECT user FROM nodes UNION ALL SELECT user FROM ways) as sq\n",
    "GROUP BY sq.user\n",
    "HAVING num=1);\n",
    "\"\"\"\n",
    "print(cursor.execute(query).fetchone())"
   ]
  },
  {
   "cell_type": "code",
   "execution_count": 23,
   "metadata": {},
   "outputs": [
    {
     "name": "stdout",
     "output_type": "stream",
     "text": [
      "('bicycle_rental', 172)\n",
      "('restaurant', 85)\n",
      "('toilets', 41)\n",
      "('bank', 32)\n",
      "('cafe', 31)\n"
     ]
    }
   ],
   "source": [
    "# query the top 5 amentity\n",
    "query = \"\"\"\n",
    "SELECT value, count(*) as num\n",
    "FROM nodestags\n",
    "WHERE key=\"amenity\"\n",
    "GROUP BY value\n",
    "ORDER BY num DESC\n",
    "LIMIT 5;\n",
    "\"\"\"\n",
    "for i in cursor.execute(query).fetchall():\n",
    "    print(i)"
   ]
  },
  {
   "cell_type": "code",
   "execution_count": 24,
   "metadata": {},
   "outputs": [
    {
     "name": "stdout",
     "output_type": "stream",
     "text": [
      "('supermarket', 31)\n",
      "('convenience', 30)\n",
      "('bakery', 8)\n",
      "('clothes', 8)\n",
      "('greengrocer', 4)\n"
     ]
    }
   ],
   "source": [
    "# query the top 5 amentity\n",
    "query = \"\"\"\n",
    "SELECT value, count(*) as num\n",
    "FROM nodestags\n",
    "WHERE key=\"shop\"\n",
    "GROUP BY value\n",
    "ORDER BY num DESC\n",
    "LIMIT 5;\n",
    "\"\"\"\n",
    "for i in cursor.execute(query).fetchall():\n",
    "    print(i)"
   ]
  },
  {
   "cell_type": "markdown",
   "metadata": {},
   "source": [
    "### 查询报告\n",
    "1. 各表格的记录数，节点数量为261756，道路数量为31741\n",
    "2. 最多的贡献数量的用户名及贡献数量，该用户为Chen Jia\n",
    "3. 贡献数量最多对用户，在节点上其主要贡献在住宿、银行等相关信息更新；而在道路中是服务相关信息\n",
    "4. 在道路和节点中，商店和便利设施最多对5个类型和数量。节点中主要是自行车出租、餐厅数量较多；而道路信息主要在超市和便利店方面"
   ]
  },
  {
   "cell_type": "markdown",
   "metadata": {},
   "source": [
    "## 参考和建议\n",
    "本次项目进过数据清洗及建立数据分析流程中，均出现了的问题，问题内容以及使用到的参考如下：\n",
    "1. 运行样本数据，使用iterparse解析全文件时候报错(ParseError:no element found)，经过搜索是文件的element没有closing tag。对样本文件进行修改加上了closing tag。参考[stackflow关于ParseErro的解答](https://stackoverflow.com/questions/23001757/python-elementtree-no-element-found-exception)\n",
    "2. collection.defaultdict以及class dict对象没有index方法，因为这两类对象是mapping的方式，所以如果要获取keys的名称需要调用keys方法。\n",
    "3. 在更新各element的集合时候，报错(TypeError: 'NoneType' object is not iterable)，一个是对set对方法利用不合理，重新参考了[set的方法](https://docs.python.org/2/library/sets.html)\n",
    "4. 在数据解析过程中因版本差异，而产生的错误python2.0系列中unicode检验变成了str，在python3.0中[参考stackoveflow](https://stackoverflow.com/questions/19877306/nameerror-global-name-unicode-is-not-defined-in-python-3)\n",
    "5. 在本次运行过程中，中文的名称因为使用encode方法后变为二进制，在进行构建数据库中，储存为二进制文件。参考[相关文档](https://docs.python.org/3/library/codecs.html)后，解释原因是在encode方法会将值变为二进制文件而且以完整的字符串形式保存，取消encode则保存了中文值\n",
    "\n",
    "\n",
    "关于数据集的一些建议：\n",
    "1. 建立数据录入标准 优势是能够对数据录入建立统一规范的要求；另一方面，会限制特殊数据的录入，比如需要当地地区特殊的表达时，就可能出现无法录入数据的问题\n",
    "2. 建立标准的数据集字典 优势在于对于长期的标准值能够随时读取和检验，保障数据获取后能够正确，方便校验；但是在初期建立数据集字典时，需要投入一定的成本。同时如果出现大范围的更新时，同样需要投入大量成本\n",
    "\n"
   ]
  }
 ],
 "metadata": {
  "kernelspec": {
   "display_name": "Python [conda root]",
   "language": "python",
   "name": "conda-root-py"
  },
  "language_info": {
   "codemirror_mode": {
    "name": "ipython",
    "version": 3
   },
   "file_extension": ".py",
   "mimetype": "text/x-python",
   "name": "python",
   "nbconvert_exporter": "python",
   "pygments_lexer": "ipython3",
   "version": "3.5.2"
  }
 },
 "nbformat": 4,
 "nbformat_minor": 2
}
